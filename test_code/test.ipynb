{
 "cells": [
  {
   "cell_type": "code",
   "execution_count": 1,
   "metadata": {},
   "outputs": [
    {
     "name": "stdout",
     "output_type": "stream",
     "text": [
      "WARNING:tensorflow:From c:\\Users\\Jacob\\AppData\\Local\\Programs\\Python\\Python311\\Lib\\site-packages\\keras\\src\\losses.py:2976: The name tf.losses.sparse_softmax_cross_entropy is deprecated. Please use tf.compat.v1.losses.sparse_softmax_cross_entropy instead.\n",
      "\n",
      "[name: \"/device:CPU:0\"\n",
      "device_type: \"CPU\"\n",
      "memory_limit: 268435456\n",
      "locality {\n",
      "}\n",
      "incarnation: 16357704192972082324\n",
      "xla_global_id: -1\n",
      "]\n"
     ]
    }
   ],
   "source": [
    "from tensorflow.python.client import device_lib\n",
    "print(device_lib.list_local_devices())"
   ]
  },
  {
   "cell_type": "code",
   "execution_count": 5,
   "metadata": {},
   "outputs": [
    {
     "name": "stdout",
     "output_type": "stream",
     "text": [
      "Num GPUs Available:  0\n",
      "Epoch 1/5\n",
      "32/32 [==============================] - 1s 6ms/step - loss: 2.3413 - accuracy: 0.0970\n",
      "Epoch 2/5\n",
      "32/32 [==============================] - 0s 6ms/step - loss: 2.2978 - accuracy: 0.1150\n",
      "Epoch 3/5\n",
      "32/32 [==============================] - 0s 6ms/step - loss: 2.2868 - accuracy: 0.1290\n",
      "Epoch 4/5\n",
      "32/32 [==============================] - 0s 5ms/step - loss: 2.2721 - accuracy: 0.1400\n",
      "Epoch 5/5\n",
      "32/32 [==============================] - 0s 5ms/step - loss: 2.2484 - accuracy: 0.1760\n",
      "7/7 [==============================] - 0s 2ms/step - loss: 2.3133 - accuracy: 0.1100\n",
      "Test Loss: 2.313277006149292, Test Accuracy: 0.10999999940395355\n"
     ]
    }
   ],
   "source": [
    "import tensorflow as tf\n",
    "from tensorflow.keras import layers, models\n",
    "import numpy as np\n",
    "\n",
    "tf.device('GPU')\n",
    "# Check if GPU is available\n",
    "print(\"Num GPUs Available: \", len(tf.config.experimental.list_physical_devices('GPU')))\n",
    "\n",
    "# Define a simple CNN model\n",
    "model = models.Sequential([\n",
    "    layers.Conv2D(32, (3, 3), activation='relu', input_shape=(28, 28, 1)),\n",
    "    layers.MaxPooling2D((2, 2)),\n",
    "    layers.Flatten(),\n",
    "    layers.Dense(128, activation='relu'),\n",
    "    layers.Dense(10, activation='softmax')\n",
    "])\n",
    "\n",
    "# Compile the model\n",
    "model.compile(optimizer='adam',\n",
    "              loss='sparse_categorical_crossentropy',\n",
    "              metrics=['accuracy'])\n",
    "\n",
    "# Generate random data for testing\n",
    "x_train = np.random.rand(1000, 28, 28, 1)\n",
    "y_train = np.random.randint(0, 10, size=(1000,))\n",
    "\n",
    "# Train the model on GPU\n",
    "with tf.device('/gpu:0'):\n",
    "    model.fit(x_train, y_train, epochs=5, batch_size=32)\n",
    "\n",
    "# Evaluate the model on GPU\n",
    "x_test = np.random.rand(200, 28, 28, 1)\n",
    "y_test = np.random.randint(0, 10, size=(200,))\n",
    "with tf.device('/gpu:0'):\n",
    "    loss, accuracy = model.evaluate(x_test, y_test)\n",
    "\n",
    "print(f\"Test Loss: {loss}, Test Accuracy: {accuracy}\")\n"
   ]
  },
  {
   "cell_type": "code",
   "execution_count": null,
   "metadata": {},
   "outputs": [],
   "source": []
  }
 ],
 "metadata": {
  "kernelspec": {
   "display_name": "Python 3",
   "language": "python",
   "name": "python3"
  },
  "language_info": {
   "codemirror_mode": {
    "name": "ipython",
    "version": 3
   },
   "file_extension": ".py",
   "mimetype": "text/x-python",
   "name": "python",
   "nbconvert_exporter": "python",
   "pygments_lexer": "ipython3",
   "version": "3.11.7"
  }
 },
 "nbformat": 4,
 "nbformat_minor": 2
}
